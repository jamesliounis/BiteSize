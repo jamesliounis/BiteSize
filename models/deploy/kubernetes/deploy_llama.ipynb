{
 "cells": [
  {
   "cell_type": "code",
   "execution_count": 5,
   "metadata": {},
   "outputs": [
    {
     "name": "stdout",
     "output_type": "stream",
     "text": [
      "Requirement already satisfied: protobuf==3.20.0 in /opt/anaconda3/lib/python3.9/site-packages (3.20.0)\n",
      "\u001b[33mDEPRECATION: textract 1.6.5 has a non-standard dependency specifier extract-msg<=0.29.*. pip 23.3 will enforce this behaviour change. A possible replacement is to upgrade to a newer version of textract or contact the author to suggest that they release a version with a conforming dependency specifiers. Discussion can be found at https://github.com/pypa/pip/issues/12063\u001b[0m\u001b[33m\n",
      "\u001b[0m\n",
      "\u001b[1m[\u001b[0m\u001b[34;49mnotice\u001b[0m\u001b[1;39;49m]\u001b[0m\u001b[39;49m A new release of pip is available: \u001b[0m\u001b[31;49m23.2.1\u001b[0m\u001b[39;49m -> \u001b[0m\u001b[32;49m23.3\u001b[0m\n",
      "\u001b[1m[\u001b[0m\u001b[34;49mnotice\u001b[0m\u001b[1;39;49m]\u001b[0m\u001b[39;49m To update, run: \u001b[0m\u001b[32;49mpip install --upgrade pip\u001b[0m\n",
      "Collecting python-dotenv\n",
      "  Downloading python_dotenv-1.0.0-py3-none-any.whl (19 kB)\n",
      "\u001b[33mDEPRECATION: textract 1.6.5 has a non-standard dependency specifier extract-msg<=0.29.*. pip 23.3 will enforce this behaviour change. A possible replacement is to upgrade to a newer version of textract or contact the author to suggest that they release a version with a conforming dependency specifiers. Discussion can be found at https://github.com/pypa/pip/issues/12063\u001b[0m\u001b[33m\n",
      "\u001b[0mInstalling collected packages: python-dotenv\n",
      "Successfully installed python-dotenv-1.0.0\n",
      "\n",
      "\u001b[1m[\u001b[0m\u001b[34;49mnotice\u001b[0m\u001b[1;39;49m]\u001b[0m\u001b[39;49m A new release of pip is available: \u001b[0m\u001b[31;49m23.2.1\u001b[0m\u001b[39;49m -> \u001b[0m\u001b[32;49m23.3\u001b[0m\n",
      "\u001b[1m[\u001b[0m\u001b[34;49mnotice\u001b[0m\u001b[1;39;49m]\u001b[0m\u001b[39;49m To update, run: \u001b[0m\u001b[32;49mpip install --upgrade pip\u001b[0m\n"
     ]
    }
   ],
   "source": [
    "!pip install protobuf==3.20.0\n",
    "!pip install python-dotenv\n"
   ]
  },
  {
   "cell_type": "code",
   "execution_count": 8,
   "metadata": {},
   "outputs": [],
   "source": [
    "import torch\n",
    "from transformers import AutoTokenizer, AutoModelForCausalLM, pipeline\n",
    "from typing import Dict\n",
    "from huggingface_hub import login\n",
    "import os\n",
    "from dotenv import load_dotenv  # <-- Added this line\n",
    "\n",
    "MODEL_NAME = \"meta-llama/Llama-2-7b-chat-hf\"\n",
    "DEFAULT_MAX_LENGTH = 128\n",
    "\n",
    "class Model:\n",
    "    def __init__(self, data_dir: str, config: Dict, **kwargs) -> None:\n",
    "        self._data_dir = data_dir\n",
    "        self._config = config\n",
    "        self.device = \"cuda\" if torch.cuda.is_available() else \"cpu\"\n",
    "        print(\"THE DEVICE INFERENCE IS RUNNING ON IS: \", self.device)\n",
    "        self.tokenizer = None\n",
    "        self.pipeline = None\n",
    "        secrets = kwargs.get(\"secrets\")\n",
    "        \n",
    "        # Load the .env file\n",
    "        load_dotenv(\"hf_key.env\")  # <-- Added this line\n",
    "        \n",
    "        # Get the Hugging Face API key from the environment variable\n",
    "        self.huggingface_api_token = os.environ.get(\"TRUSS_SECRET_huggingface_api_token\")\n",
    "        if not self.huggingface_api_token:\n",
    "            raise ValueError(\"Failed to read Hugging Face API key from environment variable\")\n",
    "\n",
    "    def load(self):\n",
    "        login(token=self.huggingface_api_token)\n",
    "        self.tokenizer = AutoTokenizer.from_pretrained(MODEL_NAME, use_auth_token=self.huggingface_api_token)\n",
    "        model_8bit = AutoModelForCausalLM.from_pretrained(\n",
    "            MODEL_NAME,\n",
    "            device_map=\"auto\",\n",
    "            load_in_8bit=True,\n",
    "            trust_remote_code=True)\n",
    "\n",
    "        self.pipeline = pipeline(\n",
    "            \"text-generation\",\n",
    "            model=model_8bit,\n",
    "            tokenizer=self.tokenizer,\n",
    "            torch_dtype=torch.bfloat16,\n",
    "            trust_remote_code=True,\n",
    "            device_map=\"auto\",\n",
    "        )\n",
    "\n",
    "    def predict(self, request: Dict) -> Dict:\n",
    "        with torch.no_grad():\n",
    "            try:\n",
    "                prompt = request.pop(\"prompt\")\n",
    "                data = self.pipeline(\n",
    "                    prompt,\n",
    "                    eos_token_id=self.tokenizer.eos_token_id,\n",
    "                    max_length=DEFAULT_MAX_LENGTH,\n",
    "                    **request\n",
    "                )[0]\n",
    "                return {\"data\": data}\n",
    "\n",
    "            except Exception as exc:\n",
    "                return {\"status\": \"error\", \"data\": None, \"message\": str(exc)}\n"
   ]
  },
  {
   "cell_type": "code",
   "execution_count": null,
   "metadata": {},
   "outputs": [],
   "source": []
  }
 ],
 "metadata": {
  "kernelspec": {
   "display_name": "base",
   "language": "python",
   "name": "python3"
  },
  "language_info": {
   "codemirror_mode": {
    "name": "ipython",
    "version": 3
   },
   "file_extension": ".py",
   "mimetype": "text/x-python",
   "name": "python",
   "nbconvert_exporter": "python",
   "pygments_lexer": "ipython3",
   "version": "3.9.15"
  },
  "orig_nbformat": 4
 },
 "nbformat": 4,
 "nbformat_minor": 2
}
